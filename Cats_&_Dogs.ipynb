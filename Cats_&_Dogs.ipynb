{
  "cells": [
    {
      "cell_type": "markdown",
      "id": "dd65a8d7",
      "metadata": {
        "id": "dd65a8d7"
      },
      "source": [
        "## TP Cats & Dogs"
      ]
    },
    {
      "cell_type": "code",
      "execution_count": null,
      "id": "76d68b50",
      "metadata": {
        "id": "76d68b50"
      },
      "outputs": [],
      "source": [
        "import numpy as np\n",
        "import matplotlib.pyplot as plt\n",
        "from skimage import io\n",
        "from skimage.transform import resize\n",
        "from skimage.color import rgb2gray"
      ]
    },
    {
      "cell_type": "code",
      "source": [
        "from google.colab import drive\n",
        "drive.mount('/content/drive')"
      ],
      "metadata": {
        "id": "s9Y4eL8nPL44"
      },
      "id": "s9Y4eL8nPL44",
      "execution_count": null,
      "outputs": []
    },
    {
      "cell_type": "code",
      "execution_count": null,
      "id": "ebd20bed",
      "metadata": {
        "id": "ebd20bed"
      },
      "outputs": [],
      "source": [
        "\n",
        "cat1 = io.imread(\"/content/drive/MyDrive/dataset/training_set/cats/cat.1.jpg\")\n",
        "cat1_ = resize(cat1, (200,200,3))\n",
        "cat1_gray = rgb2gray(cat1_)\n",
        "fig = plt.figure()\n",
        "columns = 3; rows = 1\n",
        "fig.add_subplot(rows, columns, 1);plt.imshow(cat1)\n",
        "fig.add_subplot(rows, columns, 2);plt.imshow(cat1_)\n",
        "fig.add_subplot(rows, columns, 3);plt.imshow(cat1_gray)\n",
        "plt.show()\n"
      ]
    },
    {
      "cell_type": "code",
      "execution_count": null,
      "id": "b52dac3d",
      "metadata": {
        "id": "b52dac3d"
      },
      "outputs": [],
      "source": [
        "x_train = []; y_train = []\n",
        "for i in range(1,131):\n",
        "    cat = rgb2gray(resize(io.imread('/content/drive/MyDrive/dataset/training_set/cats/cat.{}.jpg'.format(i)), (200,200)))\n",
        "    x_train.append(cat); y_train.append(0) #0-->'cat'\n",
        "\n",
        "for i in range(1,131):\n",
        "    dog = rgb2gray(resize(io.imread('/content/drive/MyDrive/dataset/training_set/dogs/dog.{}.jpg'.format(i)), (200,200)))\n",
        "    x_train.append(dog); y_train.append(1) #1-->'dog'\n",
        "\n",
        "x_train, y_train = np.asarray(x_train), np.asarray(y_train)\n",
        "print('x_train shape: ',x_train.shape, 'y_train shape: ', y_train.shape)"
      ]
    },
    {
      "cell_type": "code",
      "execution_count": null,
      "id": "064bfa37",
      "metadata": {
        "id": "064bfa37"
      },
      "outputs": [],
      "source": [
        "x_test = []; y_test = []\n",
        "for i in range(4001,4101):\n",
        "    cat = rgb2gray(resize(io.imread('/content/drive/MyDrive/dataset/test_set/cats/cat.{}.jpg'.format(i)), (200,200)))\n",
        "    x_test.append(cat); y_test.append(0) #0-->'cat'\n",
        "\n",
        "for i in range(4001,4101):\n",
        "    dog = rgb2gray(resize(io.imread('/content/drive/MyDrive/dataset/test_set/dogs/dog.{}.jpg'.format(i)), (200,200)))\n",
        "    x_test.append(dog); y_test.append(1) #1-->'dog'\n",
        "\n",
        "x_test, y_test = np.asarray(x_test), np.asarray(y_test)\n",
        "print('x_test shape: ',x_test.shape, 'y_test shape: ', y_test.shape)"
      ]
    },
    {
      "cell_type": "code",
      "execution_count": null,
      "id": "35421cbd",
      "metadata": {
        "id": "35421cbd"
      },
      "outputs": [],
      "source": [
        "def predict(X, k):\n",
        "    distances = []\n",
        "    for i in range(0, len(x_train)):\n",
        "        distances += [np.sum(np.abs(x_train[i] - X))]\n",
        "    min_indexs = np.argsort(distances)[:k]#récupérer les indices des valeurs triés dans l'ordre croisant\n",
        "    y_ = y_train[min_indexs]; counts = np.bincount(y_)#compter les occurances de la valeur '0' et '1'\n",
        "    if np.argmax(counts)==0:return('cat')#argmax(count) pour compter la valeur qui se répète le plus (0 ou 1)\n",
        "    else:return('dog')"
      ]
    },
    {
      "cell_type": "code",
      "execution_count": null,
      "id": "899b9b63",
      "metadata": {
        "id": "899b9b63"
      },
      "outputs": [],
      "source": [
        "#Exemple de prediction en utilisant la fonction 'predict'\n",
        "numeros_images_a_predire = [4,100]\n",
        "fig=plt.figure(); predictions=[]\n",
        "columns=2;rows=1;i=1\n",
        "for num in numeros_images_a_predire:\n",
        "    predictions+=[predict(x_test[num],3)]\n",
        "    fig.add_subplot(rows, columns, i); plt.imshow(x_test[num]); i+=1\n",
        "plt.show()\n",
        "print(predictions)"
      ]
    },
    {
      "cell_type": "markdown",
      "id": "c5c96895",
      "metadata": {
        "id": "c5c96895"
      },
      "source": [
        "### KNN -- cats and dog  "
      ]
    },
    {
      "cell_type": "code",
      "source": [
        "x_train.shape"
      ],
      "metadata": {
        "id": "-v-6K3ASRZSq"
      },
      "id": "-v-6K3ASRZSq",
      "execution_count": null,
      "outputs": []
    },
    {
      "cell_type": "code",
      "execution_count": null,
      "id": "4c16e261",
      "metadata": {
        "id": "4c16e261"
      },
      "outputs": [],
      "source": [
        "\n",
        "x_train = x_train.reshape(x_train.shape[0], -1)\n",
        "x_test = x_test.reshape(x_test.shape[0], -1)\n",
        "\n",
        "from sklearn.neighbors import KNeighborsClassifier\n",
        "\n",
        "neigh = KNeighborsClassifier(n_jobs=-1)\n",
        "neigh.fit(x_train,y_train)\n",
        "\n",
        "score_train = neigh.score(x_train,y_train)\n",
        "print(\" score -training set : {:.2f}%\".format(score_train*100))\n",
        "\n",
        "score_test = neigh.score(x_test,y_test)\n",
        "print(\"score - test set : {:.2f}%\".format(score_test*100))"
      ]
    },
    {
      "cell_type": "markdown",
      "id": "81d25949",
      "metadata": {
        "id": "81d25949"
      },
      "source": [
        "### Optimisation-- KNN"
      ]
    },
    {
      "cell_type": "markdown",
      "id": "ac00ab74",
      "metadata": {
        "id": "ac00ab74"
      },
      "source": [
        "#### --RandomizedSearchCV\n"
      ]
    },
    {
      "cell_type": "code",
      "execution_count": null,
      "id": "c694ef27",
      "metadata": {
        "id": "c694ef27"
      },
      "outputs": [],
      "source": [
        "from sklearn.model_selection import RandomizedSearchCV\n",
        "import time\n",
        "\n",
        "distances=['euclidean','cityblock'];valeurs_de_k=np.arange(1, 31, 2) #cityblock(également appelé distance de Manhattan)\n",
        "parametres_grid={\"n_neighbors\":valeurs_de_k, 'metric' :distances}\n",
        "\n",
        "grid=RandomizedSearchCV(neigh, parametres_grid)\n",
        "start = time.time()\n",
        "grid.fit(x_train,y_train)\n",
        "print(\"randomized search took {:.2f} minutes\".format((time.time() - start)/60))#calculer le temps écoulé (en minutes)\n",
        "acc = grid.score(x_test, y_test)\n",
        "print(\"randomized search accuracy: {:.2f}%\".format(acc * 100))#calculer la précison en utilisant les paramètres optimaux\n",
        "print(\"randomized search best parameters: {}\".format(grid.best_params_))#les paramètres optimaux"
      ]
    },
    {
      "cell_type": "markdown",
      "id": "5b6b3589",
      "metadata": {
        "id": "5b6b3589"
      },
      "source": [
        "####GridSearchCV"
      ]
    },
    {
      "cell_type": "code",
      "execution_count": null,
      "id": "8eb93adb",
      "metadata": {
        "id": "8eb93adb"
      },
      "outputs": [],
      "source": [
        "from sklearn.model_selection import GridSearchCV\n",
        "\n",
        "grid = GridSearchCV(neigh, parametres_grid)\n",
        "start = time.time()\n",
        "grid.fit(x_train, y_train)\n",
        "print(\"grid search took {:.2f} minutes\".format((time.time() - start)/60))#calculer le temps écoulé (en minutes)\n",
        "acc = grid.score(x_test, y_test)\n",
        "print(\"grid search accuracy: {:.2f}%\".format(acc * 100))#calculer la précison en utilisant les paramètres optimaux\n",
        "print(\"grid search best parameters: {}\".format(grid.best_params_))#les paramètres optimaux (cityblock est Manhattan distance)"
      ]
    },
    {
      "cell_type": "markdown",
      "id": "70245ed5",
      "metadata": {
        "id": "70245ed5"
      },
      "source": [
        "#### On remarque que l'utilisation de GridSearchCV a pris plus qu'une heure pour donner une précision de 57.45%, par contre en utilisant RandomizedSearchCV, on a obtenu une précision de 58.05% en presque 17 min seulement."
      ]
    },
    {
      "cell_type": "markdown",
      "id": "f655ebb1",
      "metadata": {
        "id": "f655ebb1"
      },
      "source": [
        "###   Decision Tree"
      ]
    },
    {
      "cell_type": "code",
      "execution_count": null,
      "id": "612aa2b1",
      "metadata": {
        "id": "612aa2b1"
      },
      "outputs": [],
      "source": [
        "from sklearn.tree import DecisionTreeClassifier\n",
        "\n",
        "#En utilisant l'indice de gini\n",
        "clf_gini = DecisionTreeClassifier(criterion = \"gini\")\n",
        "clf_gini.fit(x_train,y_train)\n",
        "y_pred_gini = clf_gini.score(x_test,y_test)\n",
        "print (\"Accuracy_gini : {:.2f}%\".format(y_pred_gini*100))\n",
        "\n",
        "#En utilisant l'entropie\n",
        "clf_entropy = DecisionTreeClassifier(criterion = \"entropy\")\n",
        "clf_entropy.fit(x_train,y_train)\n",
        "y_pred_entropy = clf_entropy.score(x_test,y_test)\n",
        "print (\"Accuracy_entropy : {:.2f}%\".format(y_pred_entropy*100))"
      ]
    },
    {
      "cell_type": "markdown",
      "id": "6f1a8575",
      "metadata": {
        "id": "6f1a8575"
      },
      "source": [
        "#### Selon les resutats obtenu ,L'utilisation du KNN avec les paramètres optimaux a donné 58.05% alors que l'utilisation du DecisionTree(criterion = \"entropy\") a donné 55%.\n",
        "#### On peut dire que le KNN performe mieux que le DecisionTree."
      ]
    },
    {
      "cell_type": "markdown",
      "id": "1e9d8cb3",
      "metadata": {
        "id": "1e9d8cb3"
      },
      "source": [
        "#### Note : En général, les algorithmes de machine learning ne sont pas bien adaptés à ce type de problème (traitement et classification des images)  par contre, les algorithmes du deep learning (CNN par exemple) sont plus efficace et ils donnent des meilleures performances."
      ]
    }
  ],
  "metadata": {
    "kernelspec": {
      "display_name": "Python 3.7.9",
      "language": "python",
      "name": "python3"
    },
    "language_info": {
      "codemirror_mode": {
        "name": "ipython",
        "version": 3
      },
      "file_extension": ".py",
      "mimetype": "text/x-python",
      "name": "python",
      "nbconvert_exporter": "python",
      "pygments_lexer": "ipython3",
      "version": "3.7.10"
    },
    "colab": {
      "provenance": []
    }
  },
  "nbformat": 4,
  "nbformat_minor": 5
}